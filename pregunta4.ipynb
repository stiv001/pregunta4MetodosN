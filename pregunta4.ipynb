{
 "cells": [
  {
   "cell_type": "markdown",
   "metadata": {},
   "source": [
    "# Secante optimizado \n"
   ]
  },
  {
   "cell_type": "code",
   "execution_count": null,
   "metadata": {},
   "outputs": [],
   "source": [
    "def secant_method(f, x0, x1, tol=1e-6, max_iter=100):    \n",
    "    x_prev = x0\n",
    "    x_curr = x1\n",
    "    fx_prev = f(x_prev)  \n",
    "    fx_curr = f(x_curr)  \n",
    "    iter_count = 0\n",
    "\n",
    "    while abs(fx_curr) > tol and iter_count < max_iter:\n",
    "        x_next = x_curr - fx_curr * (x_curr - x_prev) / (fx_curr - fx_prev)\n",
    "        \n",
    "        x_prev = x_curr\n",
    "        fx_prev = fx_curr  \n",
    "        x_curr = x_next\n",
    "        fx_curr = f(x_curr)  \n",
    "        iter_count += 1\n",
    "\n",
    "    return x_curr, iter_count\n",
    "\n"
   ]
  },
  {
   "cell_type": "markdown",
   "metadata": {},
   "source": [
    "# Ejemplo 1 \n"
   ]
  },
  {
   "cell_type": "code",
   "execution_count": 10,
   "metadata": {},
   "outputs": [
    {
     "name": "stdout",
     "output_type": "stream",
     "text": [
      "Llamada i=1\t x=2.00000\t y=-3.00\n",
      "Llamada i=2\t x=3.00000\t y=2.00\n",
      "Llamada i=3\t x=2.60000\t y=-1.10\n",
      "Llamada i=4\t x=2.74227\t y=-0.20\n",
      "Llamada i=5\t x=2.77296\t y=0.03\n",
      "Llamada i=6\t x=2.76922\t y=-0.00\n",
      "Llamada i=7\t x=2.76929\t y=-0.00\n",
      "Llamada i=8\t x=2.76929\t y=0.00\n"
     ]
    },
    {
     "data": {
      "text/plain": [
       "(2.7692923542484045, 6)"
      ]
     },
     "execution_count": 10,
     "metadata": {},
     "output_type": "execute_result"
    }
   ],
   "source": [
    "i = 0\n",
    "\n",
    "\n",
    "def func(x):\n",
    "    global i\n",
    "    i += 1\n",
    "    y = x**3 - 3 * x**2 + x - 1\n",
    "    print(f\"Llamada i={i}\\t x={x:.5f}\\t y={y:.2f}\")\n",
    "    return y\n",
    "\n",
    "\n",
    "secant_method(func, x0=2, x1=3)"
   ]
  },
  {
   "cell_type": "markdown",
   "metadata": {},
   "source": [
    "# Ejemplo 2 "
   ]
  },
  {
   "cell_type": "code",
   "execution_count": 11,
   "metadata": {},
   "outputs": [
    {
     "name": "stdout",
     "output_type": "stream",
     "text": [
      "Llamada i=1\t x=2.00000\t y=1.41\n",
      "Llamada i=2\t x=3.00000\t y=0.64\n",
      "Llamada i=3\t x=3.83460\t y=-0.14\n",
      "Llamada i=4\t x=3.68602\t y=-0.02\n",
      "Llamada i=5\t x=3.66399\t y=0.00\n",
      "Llamada i=6\t x=3.66520\t y=-0.00\n",
      "Llamada i=7\t x=3.66519\t y=-0.00\n"
     ]
    },
    {
     "data": {
      "text/plain": [
       "(3.66519143172732, 5)"
      ]
     },
     "execution_count": 11,
     "metadata": {},
     "output_type": "execute_result"
    }
   ],
   "source": [
    "i = 0\n",
    "import math\n",
    "\n",
    "\n",
    "def func(x):\n",
    "    global i\n",
    "    i += 1\n",
    "    y = math.sin(x) + 0.5\n",
    "    print(f\"Llamada i={i}\\t x={x:.5f}\\t y={y:.2f}\")\n",
    "    return y\n",
    "\n",
    "\n",
    "secant_method(func, x0=2, x1=3)"
   ]
  }
 ],
 "metadata": {
  "kernelspec": {
   "display_name": "Python 3",
   "language": "python",
   "name": "python3"
  },
  "language_info": {
   "codemirror_mode": {
    "name": "ipython",
    "version": 3
   },
   "file_extension": ".py",
   "mimetype": "text/x-python",
   "name": "python",
   "nbconvert_exporter": "python",
   "pygments_lexer": "ipython3",
   "version": "3.13.0"
  }
 },
 "nbformat": 4,
 "nbformat_minor": 2
}
